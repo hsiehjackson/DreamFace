{
 "cells": [
  {
   "cell_type": "code",
   "execution_count": 2,
   "id": "a563d1f6-95fe-4a93-ad78-a0e7af869c86",
   "metadata": {},
   "outputs": [],
   "source": [
    "import os\n",
    "from PIL import Image as pil\n",
    "from IPython.display import Image, display\n",
    "from collections import defaultdict, Counter"
   ]
  },
  {
   "cell_type": "code",
   "execution_count": 3,
   "id": "e68afa78-e198-408c-b5f1-ace7632384b8",
   "metadata": {},
   "outputs": [],
   "source": [
    "with open('identity_CelebA.txt') as f:\n",
    "    lines = f.readlines()\n",
    "    lines = [line.strip().split() for line in lines]\n",
    "    \n",
    "with open('mapping.txt') as f:\n",
    "    f.readline()\n",
    "    mapping = {line.strip().split()[2]: f'{line.strip().split()[0]}.jpg'for line in f.readlines()}"
   ]
  },
  {
   "cell_type": "code",
   "execution_count": 4,
   "id": "2d58a3d5-0341-493e-b7c1-67ed113125d1",
   "metadata": {},
   "outputs": [],
   "source": [
    "people2imgs = defaultdict(list)\n",
    "for img, people in lines:\n",
    "    if img in mapping:\n",
    "        people2imgs[people].append(mapping[img])"
   ]
  },
  {
   "cell_type": "code",
   "execution_count": 5,
   "id": "7ce9c6a2-9810-4443-b440-6c5086f977aa",
   "metadata": {},
   "outputs": [
    {
     "data": {
      "text/plain": [
       "(6217, 202599)"
      ]
     },
     "execution_count": 5,
     "metadata": {},
     "output_type": "execute_result"
    }
   ],
   "source": [
    "len(people2imgs), len(lines)"
   ]
  },
  {
   "cell_type": "code",
   "execution_count": 6,
   "id": "47e62ea5-f12b-490d-a154-8c68b53edd7f",
   "metadata": {},
   "outputs": [],
   "source": [
    "root_path = '/data/chengping/CelebAMask-HQ/CelebA-HQ-img'"
   ]
  },
  {
   "cell_type": "code",
   "execution_count": 7,
   "id": "f74d781a-dad4-4ee5-bb53-67c1324b9d27",
   "metadata": {},
   "outputs": [],
   "source": [
    "total_images = [imgs for p, imgs in people2imgs.items() if len(imgs) == 20]"
   ]
  },
  {
   "cell_type": "code",
   "execution_count": 8,
   "id": "41adeab7-310b-49bd-970f-9582738ffc3f",
   "metadata": {},
   "outputs": [
    {
     "data": {
      "text/plain": [
       "28"
      ]
     },
     "execution_count": 8,
     "metadata": {},
     "output_type": "execute_result"
    }
   ],
   "source": [
    "len(total_images)"
   ]
  },
  {
   "cell_type": "code",
   "execution_count": 57,
   "id": "fb52445a-645b-41a4-a6b6-dd6cb51d77be",
   "metadata": {},
   "outputs": [],
   "source": [
    "male = [5,9,20,23,24,27]"
   ]
  },
  {
   "cell_type": "code",
   "execution_count": 60,
   "id": "c0d69e98-f054-44dd-8927-93bcb9de16ac",
   "metadata": {},
   "outputs": [],
   "source": [
    "os.makedirs('images',exist_ok=True)\n",
    "for i, imgs in enumerate(total_images):\n",
    "    for j, img in enumerate(imgs):\n",
    "        img_path = os.path.join(root_path, img)\n",
    "        image = pil.open(img_path)\n",
    "        image = image.resize((512, 512))\n",
    "        os.makedirs(f'images/user{i:02}',exist_ok=True)\n",
    "        image.save(f'images/user{i:02}/{j:02}.jpg')"
   ]
  },
  {
   "cell_type": "code",
   "execution_count": null,
   "id": "4e9ab855-3cb5-47e3-8f6e-28e0ef86ff26",
   "metadata": {},
   "outputs": [],
   "source": []
  }
 ],
 "metadata": {
  "kernelspec": {
   "display_name": "ldm",
   "language": "python",
   "name": "ldm"
  },
  "language_info": {
   "codemirror_mode": {
    "name": "ipython",
    "version": 3
   },
   "file_extension": ".py",
   "mimetype": "text/x-python",
   "name": "python",
   "nbconvert_exporter": "python",
   "pygments_lexer": "ipython3",
   "version": "3.8.10"
  }
 },
 "nbformat": 4,
 "nbformat_minor": 5
}
